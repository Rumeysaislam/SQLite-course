{
 "cells": [
  {
   "cell_type": "code",
   "execution_count": 6,
   "metadata": {},
   "outputs": [
    {
     "name": "stdout",
     "output_type": "stream",
     "text": [
      "The sql extension is already loaded. To reload it, use:\n",
      "  %reload_ext sql\n"
     ]
    }
   ],
   "source": [
    "%load_ext sql"
   ]
  },
  {
   "cell_type": "code",
   "execution_count": 7,
   "metadata": {},
   "outputs": [],
   "source": [
    "%sql sqlite:///first-database-sql.db"
   ]
  },
  {
   "cell_type": "markdown",
   "metadata": {},
   "source": [
    "# 1. Products tablosundaki CategoryID'lerin yani kategorilerin isimleri?"
   ]
  },
  {
   "cell_type": "code",
   "execution_count": 5,
   "metadata": {},
   "outputs": [
    {
     "name": "stdout",
     "output_type": "stream",
     "text": [
      " * sqlite:///first-database-sql.db\n",
      "Done.\n"
     ]
    },
    {
     "data": {
      "text/html": [
       "<table>\n",
       "    <tr>\n",
       "        <th>CategoryID</th>\n",
       "        <th>ProductName</th>\n",
       "    </tr>\n",
       "    <tr>\n",
       "        <td>1</td>\n",
       "        <td>Chais</td>\n",
       "    </tr>\n",
       "    <tr>\n",
       "        <td>1</td>\n",
       "        <td>Chang</td>\n",
       "    </tr>\n",
       "    <tr>\n",
       "        <td>2</td>\n",
       "        <td>Aniseed Syrup</td>\n",
       "    </tr>\n",
       "    <tr>\n",
       "        <td>2</td>\n",
       "        <td>Chef Anton&#x27;s Cajun Seasoning</td>\n",
       "    </tr>\n",
       "    <tr>\n",
       "        <td>2</td>\n",
       "        <td>Chef Anton&#x27;s Gumbo Mix</td>\n",
       "    </tr>\n",
       "</table>"
      ],
      "text/plain": [
       "[(1, 'Chais'),\n",
       " (1, 'Chang'),\n",
       " (2, 'Aniseed Syrup'),\n",
       " (2, \"Chef Anton's Cajun Seasoning\"),\n",
       " (2, \"Chef Anton's Gumbo Mix\")]"
      ]
     },
     "execution_count": 5,
     "metadata": {},
     "output_type": "execute_result"
    }
   ],
   "source": [
    "%%sql\n",
    "SELECT CategoryID, ProductName\n",
    "FROM Products LIMIT 5;"
   ]
  },
  {
   "cell_type": "code",
   "execution_count": 14,
   "metadata": {},
   "outputs": [
    {
     "name": "stdout",
     "output_type": "stream",
     "text": [
      " * sqlite:///first-database-sql.db\n",
      "Done.\n"
     ]
    },
    {
     "data": {
      "text/html": [
       "<table>\n",
       "    <tr>\n",
       "        <th>CategoryID</th>\n",
       "        <th>CategoryName</th>\n",
       "    </tr>\n",
       "    <tr>\n",
       "        <td>1</td>\n",
       "        <td>Beverages</td>\n",
       "    </tr>\n",
       "    <tr>\n",
       "        <td>2</td>\n",
       "        <td>Condiments</td>\n",
       "    </tr>\n",
       "    <tr>\n",
       "        <td>3</td>\n",
       "        <td>Confections</td>\n",
       "    </tr>\n",
       "    <tr>\n",
       "        <td>4</td>\n",
       "        <td>Dairy Products</td>\n",
       "    </tr>\n",
       "    <tr>\n",
       "        <td>5</td>\n",
       "        <td>Grains/Cereals</td>\n",
       "    </tr>\n",
       "</table>"
      ],
      "text/plain": [
       "[(1, 'Beverages'),\n",
       " (2, 'Condiments'),\n",
       " (3, 'Confections'),\n",
       " (4, 'Dairy Products'),\n",
       " (5, 'Grains/Cereals')]"
      ]
     },
     "execution_count": 14,
     "metadata": {},
     "output_type": "execute_result"
    }
   ],
   "source": [
    "%%sql\n",
    "SELECT CategoryID, CategoryName \n",
    "FROM Categories LIMIT 5;"
   ]
  },
  {
   "cell_type": "code",
   "execution_count": 8,
   "metadata": {},
   "outputs": [
    {
     "name": "stdout",
     "output_type": "stream",
     "text": [
      " * sqlite:///first-database-sql.db\n",
      "Done.\n"
     ]
    },
    {
     "data": {
      "text/html": [
       "<table>\n",
       "    <tr>\n",
       "        <th>ProductID</th>\n",
       "        <th>ProductName</th>\n",
       "        <th>SupplierID</th>\n",
       "        <th>CategoryID</th>\n",
       "        <th>Unit</th>\n",
       "        <th>Price</th>\n",
       "        <th>CategoryID_1</th>\n",
       "        <th>CategoryName</th>\n",
       "        <th>Description</th>\n",
       "    </tr>\n",
       "    <tr>\n",
       "        <td>1</td>\n",
       "        <td>Chais</td>\n",
       "        <td>1</td>\n",
       "        <td>1</td>\n",
       "        <td>10 boxes x 20 bags</td>\n",
       "        <td>18</td>\n",
       "        <td>1</td>\n",
       "        <td>Beverages</td>\n",
       "        <td>Soft drinks, coffees, teas, beers, and ales</td>\n",
       "    </tr>\n",
       "    <tr>\n",
       "        <td>1</td>\n",
       "        <td>Chais</td>\n",
       "        <td>1</td>\n",
       "        <td>1</td>\n",
       "        <td>10 boxes x 20 bags</td>\n",
       "        <td>18</td>\n",
       "        <td>1</td>\n",
       "        <td>Beverages</td>\n",
       "        <td>Soft drinks, coffees, teas, beers, and ales</td>\n",
       "    </tr>\n",
       "    <tr>\n",
       "        <td>1</td>\n",
       "        <td>Chais</td>\n",
       "        <td>1</td>\n",
       "        <td>1</td>\n",
       "        <td>10 boxes x 20 bags</td>\n",
       "        <td>18</td>\n",
       "        <td>1</td>\n",
       "        <td>Beverages</td>\n",
       "        <td>Soft drinks, coffees, teas, beers, and ales</td>\n",
       "    </tr>\n",
       "    <tr>\n",
       "        <td>1</td>\n",
       "        <td>Chais</td>\n",
       "        <td>1</td>\n",
       "        <td>1</td>\n",
       "        <td>10 boxes x 20 bags</td>\n",
       "        <td>18</td>\n",
       "        <td>1</td>\n",
       "        <td>Beverages</td>\n",
       "        <td>Soft drinks, coffees, teas, beers, and ales</td>\n",
       "    </tr>\n",
       "    <tr>\n",
       "        <td>1</td>\n",
       "        <td>Chais</td>\n",
       "        <td>1</td>\n",
       "        <td>1</td>\n",
       "        <td>10 boxes x 20 bags</td>\n",
       "        <td>18</td>\n",
       "        <td>1</td>\n",
       "        <td>Speedy Express</td>\n",
       "        <td>(503) 555-9831</td>\n",
       "    </tr>\n",
       "</table>"
      ],
      "text/plain": [
       "[(1, 'Chais', 1, 1, '10 boxes x 20 bags', 18, 1, 'Beverages', 'Soft drinks, coffees, teas, beers, and ales'),\n",
       " (1, 'Chais', 1, 1, '10 boxes x 20 bags', 18, 1, 'Beverages', 'Soft drinks, coffees, teas, beers, and ales'),\n",
       " (1, 'Chais', 1, 1, '10 boxes x 20 bags', 18, 1, 'Beverages', 'Soft drinks, coffees, teas, beers, and ales'),\n",
       " (1, 'Chais', 1, 1, '10 boxes x 20 bags', 18, 1, 'Beverages', 'Soft drinks, coffees, teas, beers, and ales'),\n",
       " (1, 'Chais', 1, 1, '10 boxes x 20 bags', 18, 1, 'Speedy Express', '(503) 555-9831')]"
      ]
     },
     "execution_count": 8,
     "metadata": {},
     "output_type": "execute_result"
    }
   ],
   "source": [
    "%%sql\n",
    "SELECT * FROM Products \n",
    "LEFT JOIN Categories ON Products.CategoryID = Categories.CategoryID LIMIT 5;"
   ]
  },
  {
   "cell_type": "markdown",
   "metadata": {},
   "source": [
    "# 2. Beverages urun kategorisindeki urunlerin fiyat ortlamasi nedir?"
   ]
  },
  {
   "cell_type": "code",
   "execution_count": 22,
   "metadata": {},
   "outputs": [
    {
     "name": "stdout",
     "output_type": "stream",
     "text": [
      " * sqlite:///first-database-sql.db\n",
      "Done.\n"
     ]
    },
    {
     "data": {
      "text/html": [
       "<table>\n",
       "    <tr>\n",
       "        <th>CategoryID</th>\n",
       "        <th>CategoryName</th>\n",
       "        <th>Description</th>\n",
       "    </tr>\n",
       "    <tr>\n",
       "        <td>1</td>\n",
       "        <td>Beverages</td>\n",
       "        <td>Soft drinks, coffees, teas, beers, and ales</td>\n",
       "    </tr>\n",
       "    <tr>\n",
       "        <td>2</td>\n",
       "        <td>Condiments</td>\n",
       "        <td>Sweet and savory sauces, relishes, spreads, and seasonings</td>\n",
       "    </tr>\n",
       "    <tr>\n",
       "        <td>3</td>\n",
       "        <td>Confections</td>\n",
       "        <td>Desserts, candies, and sweet breads</td>\n",
       "    </tr>\n",
       "    <tr>\n",
       "        <td>4</td>\n",
       "        <td>Dairy Products</td>\n",
       "        <td>Cheeses</td>\n",
       "    </tr>\n",
       "    <tr>\n",
       "        <td>5</td>\n",
       "        <td>Grains/Cereals</td>\n",
       "        <td>Breads, crackers, pasta, and cereal</td>\n",
       "    </tr>\n",
       "</table>"
      ],
      "text/plain": [
       "[(1, 'Beverages', 'Soft drinks, coffees, teas, beers, and ales'),\n",
       " (2, 'Condiments', 'Sweet and savory sauces, relishes, spreads, and seasonings'),\n",
       " (3, 'Confections', 'Desserts, candies, and sweet breads'),\n",
       " (4, 'Dairy Products', 'Cheeses'),\n",
       " (5, 'Grains/Cereals', 'Breads, crackers, pasta, and cereal')]"
      ]
     },
     "execution_count": 22,
     "metadata": {},
     "output_type": "execute_result"
    }
   ],
   "source": [
    "%%sql\n",
    "SELECT * FROM Categories LIMIT 5;"
   ]
  },
  {
   "cell_type": "code",
   "execution_count": 23,
   "metadata": {},
   "outputs": [
    {
     "name": "stdout",
     "output_type": "stream",
     "text": [
      " * sqlite:///first-database-sql.db\n",
      "Done.\n"
     ]
    },
    {
     "data": {
      "text/html": [
       "<table>\n",
       "    <tr>\n",
       "        <th>ProductID</th>\n",
       "        <th>ProductName</th>\n",
       "        <th>SupplierID</th>\n",
       "        <th>CategoryID</th>\n",
       "        <th>Unit</th>\n",
       "        <th>Price</th>\n",
       "    </tr>\n",
       "    <tr>\n",
       "        <td>1</td>\n",
       "        <td>Chais</td>\n",
       "        <td>1</td>\n",
       "        <td>1</td>\n",
       "        <td>10 boxes x 20 bags</td>\n",
       "        <td>18</td>\n",
       "    </tr>\n",
       "    <tr>\n",
       "        <td>2</td>\n",
       "        <td>Chang</td>\n",
       "        <td>1</td>\n",
       "        <td>1</td>\n",
       "        <td>24 - 12 oz bottles</td>\n",
       "        <td>19</td>\n",
       "    </tr>\n",
       "    <tr>\n",
       "        <td>3</td>\n",
       "        <td>Aniseed Syrup</td>\n",
       "        <td>1</td>\n",
       "        <td>2</td>\n",
       "        <td>12 - 550 ml bottles</td>\n",
       "        <td>10</td>\n",
       "    </tr>\n",
       "    <tr>\n",
       "        <td>4</td>\n",
       "        <td>Chef Anton&#x27;s Cajun Seasoning</td>\n",
       "        <td>2</td>\n",
       "        <td>2</td>\n",
       "        <td>48 - 6 oz jars</td>\n",
       "        <td>22</td>\n",
       "    </tr>\n",
       "    <tr>\n",
       "        <td>5</td>\n",
       "        <td>Chef Anton&#x27;s Gumbo Mix</td>\n",
       "        <td>2</td>\n",
       "        <td>2</td>\n",
       "        <td>36 boxes</td>\n",
       "        <td>21</td>\n",
       "    </tr>\n",
       "</table>"
      ],
      "text/plain": [
       "[(1, 'Chais', 1, 1, '10 boxes x 20 bags', 18),\n",
       " (2, 'Chang', 1, 1, '24 - 12 oz bottles', 19),\n",
       " (3, 'Aniseed Syrup', 1, 2, '12 - 550 ml bottles', 10),\n",
       " (4, \"Chef Anton's Cajun Seasoning\", 2, 2, '48 - 6 oz jars', 22),\n",
       " (5, \"Chef Anton's Gumbo Mix\", 2, 2, '36 boxes', 21)]"
      ]
     },
     "execution_count": 23,
     "metadata": {},
     "output_type": "execute_result"
    }
   ],
   "source": [
    "%%sql\n",
    "SELECT * FROM Products LIMIT 5;"
   ]
  },
  {
   "cell_type": "code",
   "execution_count": 36,
   "metadata": {},
   "outputs": [
    {
     "name": "stdout",
     "output_type": "stream",
     "text": [
      " * sqlite:///first-database-sql.db\n",
      "Done.\n"
     ]
    },
    {
     "data": {
      "text/html": [
       "<table>\n",
       "    <tr>\n",
       "        <th>AVG(Price)</th>\n",
       "    </tr>\n",
       "    <tr>\n",
       "        <td>39.15584415584416</td>\n",
       "    </tr>\n",
       "</table>"
      ],
      "text/plain": [
       "[(39.15584415584416,)]"
      ]
     },
     "execution_count": 36,
     "metadata": {},
     "output_type": "execute_result"
    }
   ],
   "source": [
    "%%sql\n",
    "SELECT AVG(Price) \n",
    "FROM Products;"
   ]
  },
  {
   "cell_type": "code",
   "execution_count": 35,
   "metadata": {},
   "outputs": [
    {
     "name": "stdout",
     "output_type": "stream",
     "text": [
      " * sqlite:///first-database-sql.db\n",
      "Done.\n"
     ]
    },
    {
     "data": {
      "text/html": [
       "<table>\n",
       "    <tr>\n",
       "        <th>AVG(Price)</th>\n",
       "    </tr>\n",
       "    <tr>\n",
       "        <td>42.75</td>\n",
       "    </tr>\n",
       "</table>"
      ],
      "text/plain": [
       "[(42.75,)]"
      ]
     },
     "execution_count": 35,
     "metadata": {},
     "output_type": "execute_result"
    }
   ],
   "source": [
    "%%sql\n",
    "SELECT AVG(Price) \n",
    "FROM Products \n",
    "LEFT JOIN Categories ON Products.CategoryID = categories.CategoryID \n",
    "WHERE CategoryName = 'Beverages';"
   ]
  },
  {
   "cell_type": "markdown",
   "metadata": {},
   "source": [
    "# 3. USA'da yasayan musterilerin kazandirdigi toplam kazanci?"
   ]
  },
  {
   "cell_type": "code",
   "execution_count": 44,
   "metadata": {},
   "outputs": [
    {
     "name": "stdout",
     "output_type": "stream",
     "text": [
      " * sqlite:///first-database-sql.db\n",
      "Done.\n"
     ]
    },
    {
     "data": {
      "text/html": [
       "<table>\n",
       "    <tr>\n",
       "        <th>SUM(p.Price)</th>\n",
       "    </tr>\n",
       "    <tr>\n",
       "        <td>7524</td>\n",
       "    </tr>\n",
       "</table>"
      ],
      "text/plain": [
       "[(7524,)]"
      ]
     },
     "execution_count": 44,
     "metadata": {},
     "output_type": "execute_result"
    }
   ],
   "source": [
    "%%sql \n",
    "SELECT SUM(p.Price) \n",
    "FROM Orders o \n",
    "LEFT JOIN OrderDetails od on o.OrderID = od.OrderID \n",
    "LEFT JOIN Products p on od.ProductID = p.ProductID \n",
    "LEFT JOIN Customers cu on o.CustomerID = cu.CustomerID where cu.Country = 'USA';"
   ]
  },
  {
   "cell_type": "markdown",
   "metadata": {},
   "source": [
    "# 4. Product tablosundaki CategoryID'lerin isimleri ve kategori basina ortalama urun fiyati?"
   ]
  },
  {
   "cell_type": "code",
   "execution_count": 11,
   "metadata": {},
   "outputs": [
    {
     "name": "stdout",
     "output_type": "stream",
     "text": [
      " * sqlite:///first-database-sql.db\n",
      "Done.\n"
     ]
    },
    {
     "data": {
      "text/html": [
       "<table>\n",
       "    <tr>\n",
       "        <th>AVG(Price)</th>\n",
       "    </tr>\n",
       "    <tr>\n",
       "        <td>42.75</td>\n",
       "    </tr>\n",
       "    <tr>\n",
       "        <td>28.25</td>\n",
       "    </tr>\n",
       "    <tr>\n",
       "        <td>33.76923076923077</td>\n",
       "    </tr>\n",
       "    <tr>\n",
       "        <td>74.9</td>\n",
       "    </tr>\n",
       "    <tr>\n",
       "        <td>33.76923076923077</td>\n",
       "    </tr>\n",
       "</table>"
      ],
      "text/plain": [
       "[(42.75,), (28.25,), (33.76923076923077,), (74.9,), (33.76923076923077,)]"
      ]
     },
     "execution_count": 11,
     "metadata": {},
     "output_type": "execute_result"
    }
   ],
   "source": [
    "%%sql\n",
    "SELECT AVG(Price) \n",
    "FROM Products \n",
    "LEFT JOIN Categories ON Products.CategoryID = Categories.CategoryID \n",
    "GROUP BY CategoryName LIMIT 5;"
   ]
  },
  {
   "cell_type": "code",
   "execution_count": 47,
   "metadata": {},
   "outputs": [
    {
     "name": "stdout",
     "output_type": "stream",
     "text": [
      " * sqlite:///first-database-sql.db\n",
      "Done.\n"
     ]
    },
    {
     "data": {
      "text/html": [
       "<table>\n",
       "    <tr>\n",
       "        <th>AVG(Price)</th>\n",
       "        <th>CategoryName</th>\n",
       "    </tr>\n",
       "    <tr>\n",
       "        <td>42.75</td>\n",
       "        <td>Beverages</td>\n",
       "    </tr>\n",
       "    <tr>\n",
       "        <td>28.25</td>\n",
       "        <td>Condiments</td>\n",
       "    </tr>\n",
       "    <tr>\n",
       "        <td>33.76923076923077</td>\n",
       "        <td>Confections</td>\n",
       "    </tr>\n",
       "    <tr>\n",
       "        <td>74.9</td>\n",
       "        <td>Dairy Products</td>\n",
       "    </tr>\n",
       "    <tr>\n",
       "        <td>33.76923076923077</td>\n",
       "        <td>Federal Shipping</td>\n",
       "    </tr>\n",
       "</table>"
      ],
      "text/plain": [
       "[(42.75, 'Beverages'),\n",
       " (28.25, 'Condiments'),\n",
       " (33.76923076923077, 'Confections'),\n",
       " (74.9, 'Dairy Products'),\n",
       " (33.76923076923077, 'Federal Shipping')]"
      ]
     },
     "execution_count": 47,
     "metadata": {},
     "output_type": "execute_result"
    }
   ],
   "source": [
    "%%sql\n",
    "SELECT AVG(Price), CategoryName \n",
    "FROM Products \n",
    "LEFT JOIN Categories ON Products.CategoryID = Categories.CategoryID \n",
    "GROUP BY CategoryName LIMIT 5;"
   ]
  },
  {
   "cell_type": "markdown",
   "metadata": {},
   "source": [
    "# 5. Çalısanları isimleri ile birlikte yaptıkları toplam satisa gore sirala."
   ]
  },
  {
   "cell_type": "code",
   "execution_count": 15,
   "metadata": {},
   "outputs": [
    {
     "name": "stdout",
     "output_type": "stream",
     "text": [
      " * sqlite:///first-database-sql.db\n",
      "Done.\n"
     ]
    },
    {
     "data": {
      "text/html": [
       "<table>\n",
       "    <tr>\n",
       "        <th>FirstName</th>\n",
       "        <th>toplam_satis</th>\n",
       "    </tr>\n",
       "    <tr>\n",
       "        <td>Margaret</td>\n",
       "        <td>11030</td>\n",
       "    </tr>\n",
       "    <tr>\n",
       "        <td>Nancy</td>\n",
       "        <td>8706</td>\n",
       "    </tr>\n",
       "    <tr>\n",
       "        <td>Janet</td>\n",
       "        <td>6096</td>\n",
       "    </tr>\n",
       "    <tr>\n",
       "        <td>Michael</td>\n",
       "        <td>5962</td>\n",
       "    </tr>\n",
       "    <tr>\n",
       "        <td>Laura</td>\n",
       "        <td>4760</td>\n",
       "    </tr>\n",
       "</table>"
      ],
      "text/plain": [
       "[('Margaret', 11030),\n",
       " ('Nancy', 8706),\n",
       " ('Janet', 6096),\n",
       " ('Michael', 5962),\n",
       " ('Laura', 4760)]"
      ]
     },
     "execution_count": 15,
     "metadata": {},
     "output_type": "execute_result"
    }
   ],
   "source": [
    "%%sql\n",
    "SELECT Employees.FirstName, SUM(Products.Price) AS toplam_satis \n",
    "FROM Orders \n",
    "LEFT JOIN OrderDetails ON Orders.OrderID = OrderDetails.OrderID \n",
    "LEFT JOIN Products ON OrderDetails.ProductID = Products.ProductID \n",
    "LEFT JOIN Employees ON Orders.EmployeeID = Employees.EmployeeID \n",
    "GROUP BY Orders.EmployeeID \n",
    "ORDER BY toplam_satis DESC LIMIT 5;"
   ]
  },
  {
   "cell_type": "code",
   "execution_count": 13,
   "metadata": {},
   "outputs": [
    {
     "name": "stdout",
     "output_type": "stream",
     "text": [
      " * sqlite:///first-database-sql.db\n",
      "Done.\n"
     ]
    },
    {
     "data": {
      "text/html": [
       "<table>\n",
       "    <tr>\n",
       "        <th>FirstName</th>\n",
       "        <th>toplam_satis</th>\n",
       "    </tr>\n",
       "    <tr>\n",
       "        <td>Margaret</td>\n",
       "        <td>11030</td>\n",
       "    </tr>\n",
       "    <tr>\n",
       "        <td>Nancy</td>\n",
       "        <td>8706</td>\n",
       "    </tr>\n",
       "    <tr>\n",
       "        <td>Janet</td>\n",
       "        <td>6096</td>\n",
       "    </tr>\n",
       "    <tr>\n",
       "        <td>Michael</td>\n",
       "        <td>5962</td>\n",
       "    </tr>\n",
       "    <tr>\n",
       "        <td>Laura</td>\n",
       "        <td>4760</td>\n",
       "    </tr>\n",
       "</table>"
      ],
      "text/plain": [
       "[('Margaret', 11030),\n",
       " ('Nancy', 8706),\n",
       " ('Janet', 6096),\n",
       " ('Michael', 5962),\n",
       " ('Laura', 4760)]"
      ]
     },
     "execution_count": 13,
     "metadata": {},
     "output_type": "execute_result"
    }
   ],
   "source": [
    "%%sql\n",
    "SELECT em.FirstName, SUM(p.Price) AS toplam_satis \n",
    "FROM Orders AS o \n",
    "LEFT JOIN OrderDetails AS od ON o.OrderID = od.OrderID \n",
    "LEFT JOIN Products AS p ON od.ProductID = p.ProductID \n",
    "LEFT JOIN Employees AS em ON o.EmployeeID = em.EmployeeID \n",
    "GROUP BY o.EmployeeID \n",
    "ORDER BY toplam_satis DESC LIMIT 5;"
   ]
  },
  {
   "cell_type": "code",
   "execution_count": 14,
   "metadata": {},
   "outputs": [
    {
     "name": "stdout",
     "output_type": "stream",
     "text": [
      " * sqlite:///first-database-sql.db\n",
      "Done.\n"
     ]
    },
    {
     "data": {
      "text/html": [
       "<table>\n",
       "    <tr>\n",
       "        <th>FirstName</th>\n",
       "        <th>toplam_satis</th>\n",
       "    </tr>\n",
       "    <tr>\n",
       "        <td>Margaret</td>\n",
       "        <td>11030</td>\n",
       "    </tr>\n",
       "    <tr>\n",
       "        <td>Nancy</td>\n",
       "        <td>8706</td>\n",
       "    </tr>\n",
       "    <tr>\n",
       "        <td>Janet</td>\n",
       "        <td>6096</td>\n",
       "    </tr>\n",
       "    <tr>\n",
       "        <td>Michael</td>\n",
       "        <td>5962</td>\n",
       "    </tr>\n",
       "    <tr>\n",
       "        <td>Laura</td>\n",
       "        <td>4760</td>\n",
       "    </tr>\n",
       "</table>"
      ],
      "text/plain": [
       "[('Margaret', 11030),\n",
       " ('Nancy', 8706),\n",
       " ('Janet', 6096),\n",
       " ('Michael', 5962),\n",
       " ('Laura', 4760)]"
      ]
     },
     "execution_count": 14,
     "metadata": {},
     "output_type": "execute_result"
    }
   ],
   "source": [
    "%%sql\n",
    "SELECT em.FirstName, SUM(p.Price) toplam_satis \n",
    "FROM Orders o \n",
    "LEFT JOIN OrderDetails od ON o.OrderID = od.OrderID \n",
    "LEFT JOIN Products p ON od.ProductID = p.ProductID \n",
    "LEFT JOIN Employees em ON o.EmployeeID = em.EmployeeID \n",
    "GROUP BY o.EmployeeID \n",
    "ORDER BY toplam_satis DESC LIMIT 5;"
   ]
  },
  {
   "cell_type": "code",
   "execution_count": null,
   "metadata": {},
   "outputs": [],
   "source": []
  }
 ],
 "metadata": {
  "kernelspec": {
   "display_name": "Python 3 (ipykernel)",
   "language": "python",
   "name": "python3"
  },
  "language_info": {
   "codemirror_mode": {
    "name": "ipython",
    "version": 3
   },
   "file_extension": ".py",
   "mimetype": "text/x-python",
   "name": "python",
   "nbconvert_exporter": "python",
   "pygments_lexer": "ipython3",
   "version": "3.9.12"
  }
 },
 "nbformat": 4,
 "nbformat_minor": 4
}
