{
 "cells": [
  {
   "cell_type": "code",
   "execution_count": 4,
   "metadata": {},
   "outputs": [],
   "source": [
    "%load_ext sql"
   ]
  },
  {
   "cell_type": "code",
   "execution_count": 5,
   "metadata": {},
   "outputs": [],
   "source": [
    "%sql sqlite:///first-database-sql.db"
   ]
  },
  {
   "cell_type": "markdown",
   "metadata": {},
   "source": [
    "# 1. Almanya'dan verilen siparislerin kategorilerine gore ortalama fiyatlari?"
   ]
  },
  {
   "cell_type": "code",
   "execution_count": 4,
   "metadata": {},
   "outputs": [
    {
     "name": "stdout",
     "output_type": "stream",
     "text": [
      " * sqlite:///first-database-sql.db\n",
      "Done.\n"
     ]
    },
    {
     "data": {
      "text/html": [
       "<table>\n",
       "    <tr>\n",
       "        <th>CategoryName</th>\n",
       "        <th>AVG(p.Price)</th>\n",
       "    </tr>\n",
       "    <tr>\n",
       "        <td>Beverages</td>\n",
       "        <td>20.5</td>\n",
       "    </tr>\n",
       "    <tr>\n",
       "        <td>Condiments</td>\n",
       "        <td>34.0</td>\n",
       "    </tr>\n",
       "    <tr>\n",
       "        <td>Confections</td>\n",
       "        <td>40.0</td>\n",
       "    </tr>\n",
       "    <tr>\n",
       "        <td>Dairy Products</td>\n",
       "        <td>151.64705882352942</td>\n",
       "    </tr>\n",
       "    <tr>\n",
       "        <td>Federal Shipping</td>\n",
       "        <td>40.0</td>\n",
       "    </tr>\n",
       "</table>"
      ],
      "text/plain": [
       "[('Beverages', 20.5),\n",
       " ('Condiments', 34.0),\n",
       " ('Confections', 40.0),\n",
       " ('Dairy Products', 151.64705882352942),\n",
       " ('Federal Shipping', 40.0)]"
      ]
     },
     "execution_count": 4,
     "metadata": {},
     "output_type": "execute_result"
    }
   ],
   "source": [
    "%%sql\n",
    "SELECT ca.CategoryName, AVG(p.Price) \n",
    "FROM Orders o \n",
    "LEFT JOIN OrderDetails od ON o.OrderID = od.OrderID \n",
    "LEFT JOIN Products p ON od.ProductID = p.ProductID \n",
    "LEFT JOIN Categories ca ON p.CategoryID = ca.CategoryID \n",
    "LEFT JOIN Customers cu ON o.CustomerID = cu.CustomerID \n",
    "WHERE cu.Country = 'Germany' GROUP BY CategoryName LIMIT 5;"
   ]
  },
  {
   "cell_type": "markdown",
   "metadata": {},
   "source": [
    "# 2.Almanya ya da USA'dan verilen siparislerin kategorilerine gore ortalma fiyatlari?"
   ]
  },
  {
   "cell_type": "code",
   "execution_count": 6,
   "metadata": {},
   "outputs": [
    {
     "name": "stdout",
     "output_type": "stream",
     "text": [
      " * sqlite:///first-database-sql.db\n",
      "Done.\n"
     ]
    },
    {
     "data": {
      "text/html": [
       "<table>\n",
       "    <tr>\n",
       "        <th>CategoryName</th>\n",
       "        <th>AVG(p.Price)</th>\n",
       "    </tr>\n",
       "    <tr>\n",
       "        <td>Beverages</td>\n",
       "        <td>29.88888888888889</td>\n",
       "    </tr>\n",
       "    <tr>\n",
       "        <td>Condiments</td>\n",
       "        <td>34.72727272727273</td>\n",
       "    </tr>\n",
       "    <tr>\n",
       "        <td>Confections</td>\n",
       "        <td>39.92307692307692</td>\n",
       "    </tr>\n",
       "    <tr>\n",
       "        <td>Dairy Products</td>\n",
       "        <td>131.75862068965517</td>\n",
       "    </tr>\n",
       "    <tr>\n",
       "        <td>Federal Shipping</td>\n",
       "        <td>39.92307692307692</td>\n",
       "    </tr>\n",
       "</table>"
      ],
      "text/plain": [
       "[('Beverages', 29.88888888888889),\n",
       " ('Condiments', 34.72727272727273),\n",
       " ('Confections', 39.92307692307692),\n",
       " ('Dairy Products', 131.75862068965517),\n",
       " ('Federal Shipping', 39.92307692307692)]"
      ]
     },
     "execution_count": 6,
     "metadata": {},
     "output_type": "execute_result"
    }
   ],
   "source": [
    "%%sql\n",
    "SELECT ca.CategoryName, AVG(p.Price) \n",
    "FROM Orders o \n",
    "LEFT JOIN OrderDetails od ON o.OrderID = od.OrderID \n",
    "LEFT JOIN Products p ON od.ProductID = p.ProductID \n",
    "LEFT JOIN Categories ca ON p.CategoryID = ca.CategoryID \n",
    "LEFT JOIN Customers cu ON o.CustomerID = cu.CustomerID \n",
    "WHERE cu.Country = 'Germany' OR cu.Country = 'USA' GROUP BY CategoryName LIMIT 5;"
   ]
  },
  {
   "cell_type": "markdown",
   "metadata": {},
   "source": [
    "# 3. Haziran Temmuz Ağustos aylarinda verilen siparislerin ortalama fiyatlari?"
   ]
  },
  {
   "cell_type": "code",
   "execution_count": 7,
   "metadata": {},
   "outputs": [
    {
     "name": "stdout",
     "output_type": "stream",
     "text": [
      " * sqlite:///first-database-sql.db\n",
      "Done.\n"
     ]
    },
    {
     "data": {
      "text/html": [
       "<table>\n",
       "    <tr>\n",
       "        <th>AVG(Products.Price)</th>\n",
       "    </tr>\n",
       "    <tr>\n",
       "        <td>39.71891891891892</td>\n",
       "    </tr>\n",
       "</table>"
      ],
      "text/plain": [
       "[(39.71891891891892,)]"
      ]
     },
     "execution_count": 7,
     "metadata": {},
     "output_type": "execute_result"
    }
   ],
   "source": [
    "%%sql\n",
    "SELECT AVG(Products.Price) \n",
    "FROM Products \n",
    "LEFT JOIN OrderDetails ON OrderDetails.ProductID = products.ProductID \n",
    "LEFT JOIN Orders ON OrderDetails.OrderID = Orders.OrderID \n",
    "WHERE OrderDate like '%07%' OR OrderDate like '%08%' OR OrderDate like '%09%';\n"
   ]
  },
  {
   "cell_type": "markdown",
   "metadata": {},
   "source": [
    "# 4. Musterilerin 1997 yılına ait siparislerinin maximum miktarlarını bulup, musterilerin isimleri ile birlikte buyukten kucuge siralayiniz."
   ]
  },
  {
   "cell_type": "code",
   "execution_count": 10,
   "metadata": {},
   "outputs": [
    {
     "name": "stdout",
     "output_type": "stream",
     "text": [
      " * sqlite:///first-database-sql.db\n",
      "Done.\n"
     ]
    },
    {
     "data": {
      "text/html": [
       "<table>\n",
       "    <tr>\n",
       "        <th>CustomerName</th>\n",
       "        <th>maks</th>\n",
       "    </tr>\n",
       "    <tr>\n",
       "        <td>Gourmet Lanchonetes</td>\n",
       "        <td>435</td>\n",
       "    </tr>\n",
       "    <tr>\n",
       "        <td>Simons bistro</td>\n",
       "        <td>263</td>\n",
       "    </tr>\n",
       "    <tr>\n",
       "        <td>Mère Paillarde</td>\n",
       "        <td>263</td>\n",
       "    </tr>\n",
       "    <tr>\n",
       "        <td>Save-a-lot Markets</td>\n",
       "        <td>123</td>\n",
       "    </tr>\n",
       "    <tr>\n",
       "        <td>Eastern Connection</td>\n",
       "        <td>123</td>\n",
       "    </tr>\n",
       "</table>"
      ],
      "text/plain": [
       "[('Gourmet Lanchonetes', 435),\n",
       " ('Simons bistro', 263),\n",
       " ('Mère Paillarde', 263),\n",
       " ('Save-a-lot Markets', 123),\n",
       " ('Eastern Connection', 123)]"
      ]
     },
     "execution_count": 10,
     "metadata": {},
     "output_type": "execute_result"
    }
   ],
   "source": [
    "%%sql\n",
    "SELECT CustomerName, MAX(Price) maks \n",
    "FROM Products \n",
    "LEFT JOIN OrderDetails ON Products.ProductID = OrderDetails.ProductID \n",
    "LEFT JOIN Orders ON OrderDetails.OrderID = Orders.OrderID \n",
    "LEFT JOIN Customers ON Customers.CustomerID = Orders.CustomerID \n",
    "WHERE OrderDate like '%1997%' \n",
    "GROUP BY CustomerName ORDER BY maks DESC LIMIT 5;"
   ]
  },
  {
   "cell_type": "markdown",
   "metadata": {},
   "source": [
    "# 5. Siparis yili 1997 olan siparisleri alan calisanlari siparis alma sayilarina gore sirala."
   ]
  },
  {
   "cell_type": "code",
   "execution_count": 11,
   "metadata": {},
   "outputs": [
    {
     "name": "stdout",
     "output_type": "stream",
     "text": [
      " * sqlite:///first-database-sql.db\n",
      "Done.\n"
     ]
    },
    {
     "data": {
      "text/html": [
       "<table>\n",
       "    <tr>\n",
       "        <th>n</th>\n",
       "        <th>FirstName</th>\n",
       "    </tr>\n",
       "    <tr>\n",
       "        <td>26</td>\n",
       "        <td>Janet</td>\n",
       "    </tr>\n",
       "    <tr>\n",
       "        <td>18</td>\n",
       "        <td>Margaret</td>\n",
       "    </tr>\n",
       "    <tr>\n",
       "        <td>16</td>\n",
       "        <td>Laura</td>\n",
       "    </tr>\n",
       "    <tr>\n",
       "        <td>8</td>\n",
       "        <td>Andrew</td>\n",
       "    </tr>\n",
       "    <tr>\n",
       "        <td>6</td>\n",
       "        <td>Robert</td>\n",
       "    </tr>\n",
       "</table>"
      ],
      "text/plain": [
       "[(26, 'Janet'), (18, 'Margaret'), (16, 'Laura'), (8, 'Andrew'), (6, 'Robert')]"
      ]
     },
     "execution_count": 11,
     "metadata": {},
     "output_type": "execute_result"
    }
   ],
   "source": [
    "%%sql\n",
    "SELECT COUNT(*) n, em.FirstName \n",
    "FROM Orders \n",
    "LEFT JOIN Employees em ON Orders.EmployeeID = em.EmployeeID \n",
    "WHERE OrderDate like '%1997%' \n",
    "GROUP BY em.FirstName \n",
    "ORDER BY n DESC LIMIT 5;"
   ]
  }
 ],
 "metadata": {
  "kernelspec": {
   "display_name": "Python 3 (ipykernel)",
   "language": "python",
   "name": "python3"
  },
  "language_info": {
   "codemirror_mode": {
    "name": "ipython",
    "version": 3
   },
   "file_extension": ".py",
   "mimetype": "text/x-python",
   "name": "python",
   "nbconvert_exporter": "python",
   "pygments_lexer": "ipython3",
   "version": "3.9.12"
  }
 },
 "nbformat": 4,
 "nbformat_minor": 4
}
